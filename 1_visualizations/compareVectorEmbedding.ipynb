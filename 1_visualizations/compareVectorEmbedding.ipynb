{
  "nbformat": 4,
  "nbformat_minor": 0,
  "metadata": {
    "colab": {
      "provenance": []
    },
    "kernelspec": {
      "name": "python3",
      "display_name": "Python 3"
    },
    "language_info": {
      "name": "python"
    }
  },
  "cells": [
    {
      "cell_type": "code",
      "execution_count": null,
      "metadata": {
        "colab": {
          "base_uri": "https://localhost:8080/"
        },
        "id": "lHh5oyZt8IYj",
        "outputId": "cf90e370-c8bc-4115-e6ce-4b4fa35cb9ca"
      },
      "outputs": [
        {
          "output_type": "stream",
          "name": "stdout",
          "text": [
            "Requirement already satisfied: gensim in /usr/local/lib/python3.10/dist-packages (4.3.2)\n",
            "Requirement already satisfied: numpy>=1.18.5 in /usr/local/lib/python3.10/dist-packages (from gensim) (1.23.5)\n",
            "Requirement already satisfied: scipy>=1.7.0 in /usr/local/lib/python3.10/dist-packages (from gensim) (1.11.4)\n",
            "Requirement already satisfied: smart-open>=1.8.1 in /usr/local/lib/python3.10/dist-packages (from gensim) (6.4.0)\n",
            "Requirement already satisfied: matplotlib in /usr/local/lib/python3.10/dist-packages (3.7.1)\n",
            "Requirement already satisfied: contourpy>=1.0.1 in /usr/local/lib/python3.10/dist-packages (from matplotlib) (1.2.0)\n",
            "Requirement already satisfied: cycler>=0.10 in /usr/local/lib/python3.10/dist-packages (from matplotlib) (0.12.1)\n",
            "Requirement already satisfied: fonttools>=4.22.0 in /usr/local/lib/python3.10/dist-packages (from matplotlib) (4.46.0)\n",
            "Requirement already satisfied: kiwisolver>=1.0.1 in /usr/local/lib/python3.10/dist-packages (from matplotlib) (1.4.5)\n",
            "Requirement already satisfied: numpy>=1.20 in /usr/local/lib/python3.10/dist-packages (from matplotlib) (1.23.5)\n",
            "Requirement already satisfied: packaging>=20.0 in /usr/local/lib/python3.10/dist-packages (from matplotlib) (23.2)\n",
            "Requirement already satisfied: pillow>=6.2.0 in /usr/local/lib/python3.10/dist-packages (from matplotlib) (9.4.0)\n",
            "Requirement already satisfied: pyparsing>=2.3.1 in /usr/local/lib/python3.10/dist-packages (from matplotlib) (3.1.1)\n",
            "Requirement already satisfied: python-dateutil>=2.7 in /usr/local/lib/python3.10/dist-packages (from matplotlib) (2.8.2)\n",
            "Requirement already satisfied: six>=1.5 in /usr/local/lib/python3.10/dist-packages (from python-dateutil>=2.7->matplotlib) (1.16.0)\n",
            "Requirement already satisfied: numpy in /usr/local/lib/python3.10/dist-packages (1.23.5)\n"
          ]
        }
      ],
      "source": [
        "%pip install gensim\n",
        "%pip install matplotlib\n",
        "%pip install numpy\n"
      ]
    },
    {
      "cell_type": "code",
      "source": [
        "import gensim.downloader as api\n",
        "import matplotlib.pyplot as plt\n",
        "import numpy as np\n",
        "\n",
        "wv = api.load('word2vec-google-news-300')\n",
        "\n",
        "car = wv['car']\n",
        "minivan = wv['minivan']\n",
        "cereal = wv['cereal']\n"
      ],
      "metadata": {
        "colab": {
          "base_uri": "https://localhost:8080/"
        },
        "id": "dTM1gycC8JLM",
        "outputId": "4c0ba9ee-5149-4b5a-83cf-47292d118811"
      },
      "execution_count": null,
      "outputs": [
        {
          "output_type": "stream",
          "name": "stdout",
          "text": [
            "[==================================================] 100.0% 1662.8/1662.8MB downloaded\n"
          ]
        }
      ]
    },
    {
      "cell_type": "code",
      "source": [
        "cosine_sim = wv.cosine_similarities(car, [minivan, cereal])\n",
        "print(cosine_sim)"
      ],
      "metadata": {
        "colab": {
          "base_uri": "https://localhost:8080/"
        },
        "id": "oCvnwayL8T-E",
        "outputId": "5526e3dd-4fd9-4259-8a81-5af83857224f"
      },
      "execution_count": null,
      "outputs": [
        {
          "output_type": "stream",
          "name": "stdout",
          "text": [
            "[0.69070363 0.13924746]\n"
          ]
        }
      ]
    },
    {
      "cell_type": "code",
      "source": [
        "car = car.reshape(-1, 1)\n",
        "minivan = minivan.reshape(-1, 1)\n",
        "cereal = cereal.reshape(-1, 1)\n",
        "my_cmap = plt.get_cmap(\"viridis\")\n",
        "rescale = lambda y: (y - np.min(y)) / (np.max(y) - np.min(y))\n",
        "\n"
      ],
      "metadata": {
        "id": "9jSmCtKH8VRV"
      },
      "execution_count": null,
      "outputs": []
    },
    {
      "cell_type": "code",
      "source": [
        "print(car.ndim)\n",
        "print(car.shape)"
      ],
      "metadata": {
        "colab": {
          "base_uri": "https://localhost:8080/"
        },
        "id": "Cwg00Vz5_wbB",
        "outputId": "9702f806-bb29-4297-969d-eeab873811d0"
      },
      "execution_count": null,
      "outputs": [
        {
          "output_type": "stream",
          "name": "stdout",
          "text": [
            "2\n",
            "(300, 1)\n"
          ]
        }
      ]
    },
    {
      "cell_type": "code",
      "source": [
        "fig, axs = plt.subplots(3, 1)  # Create 2 subplots\n",
        "axs[0].bar(np.arange(1,100), height=0.03, width=1, bottom=0, color=my_cmap(rescale(car[1:100,0])))\n",
        "axs[1].bar(np.arange(1,100), height=0.03, width=1, bottom=0, color=my_cmap(rescale(minivan[1:100,0])))\n",
        "axs[2].bar(np.arange(1,100), height=0.03, width=1, bottom=0, color=my_cmap(rescale(cereal[1:100,0])))\n",
        "axs[0].set_ylabel('car')\n",
        "axs[1].set_ylabel('minivan')\n",
        "axs[2].set_ylabel('cereal')\n",
        "\n",
        "axs[2].set_xlabel('vector dimension')\n",
        "axs[0].set_yticks([])\n",
        "axs[1].set_yticks([])\n",
        "axs[2].set_yticks([])\n",
        "\n",
        "plt.subplots_adjust(hspace=0.3)\n",
        "plt.show()"
      ],
      "metadata": {
        "colab": {
          "base_uri": "https://localhost:8080/",
          "height": 449
        },
        "id": "cmaAkJax8hoT",
        "outputId": "4076fea4-cd41-472f-c086-77bf0e363c85"
      },
      "execution_count": null,
      "outputs": [
        {
          "output_type": "display_data",
          "data": {
            "text/plain": [
              "<Figure size 640x480 with 3 Axes>"
            ],
            "image/png": "[encoded data removed]"
          },
          "metadata": {}
        }
      ]
    }
  ]
}